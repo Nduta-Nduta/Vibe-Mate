{
  "nbformat": 4,
  "nbformat_minor": 0,
  "metadata": {
    "colab": {
      "provenance": [],
      "authorship_tag": "ABX9TyMiLrdNHVuMB9pG3y4FcNKA",
      "include_colab_link": true
    },
    "kernelspec": {
      "name": "python3",
      "display_name": "Python 3"
    },
    "language_info": {
      "name": "python"
    }
  },
  "cells": [
    {
      "cell_type": "markdown",
      "metadata": {
        "id": "view-in-github",
        "colab_type": "text"
      },
      "source": [
        "<a href=\"https://colab.research.google.com/github/Nduta-Nduta/Vibe-Mate/blob/master/Vibe_Mate_Phase4.ipynb\" target=\"_parent\"><img src=\"https://colab.research.google.com/assets/colab-badge.svg\" alt=\"Open In Colab\"/></a>"
      ]
    },
    {
      "cell_type": "code",
      "source": [
        "# Install Spotipy for interacting with Spotify API\n",
        "!pip install spotipy\n"
      ],
      "metadata": {
        "colab": {
          "base_uri": "https://localhost:8080/"
        },
        "id": "eidh7sPOxUvt",
        "outputId": "ca7d9df0-59a2-491d-f5ba-a0fdc35be751"
      },
      "execution_count": 2,
      "outputs": [
        {
          "output_type": "stream",
          "name": "stdout",
          "text": [
            "Requirement already satisfied: spotipy in /usr/local/lib/python3.12/dist-packages (2.25.1)\n",
            "Requirement already satisfied: redis>=3.5.3 in /usr/local/lib/python3.12/dist-packages (from spotipy) (6.4.0)\n",
            "Requirement already satisfied: requests>=2.25.0 in /usr/local/lib/python3.12/dist-packages (from spotipy) (2.32.4)\n",
            "Requirement already satisfied: urllib3>=1.26.0 in /usr/local/lib/python3.12/dist-packages (from spotipy) (2.5.0)\n",
            "Requirement already satisfied: charset_normalizer<4,>=2 in /usr/local/lib/python3.12/dist-packages (from requests>=2.25.0->spotipy) (3.4.3)\n",
            "Requirement already satisfied: idna<4,>=2.5 in /usr/local/lib/python3.12/dist-packages (from requests>=2.25.0->spotipy) (3.10)\n",
            "Requirement already satisfied: certifi>=2017.4.17 in /usr/local/lib/python3.12/dist-packages (from requests>=2.25.0->spotipy) (2025.8.3)\n"
          ]
        }
      ]
    },
    {
      "cell_type": "code",
      "source": [
        "import spotipy\n",
        "from spotipy.oauth2 import SpotifyClientCredentials\n",
        "from collections import defaultdict\n",
        "import pandas as pd\n",
        "import numpy as np\n"
      ],
      "metadata": {
        "id": "iucIV9lOzJG5"
      },
      "execution_count": 4,
      "outputs": []
    },
    {
      "cell_type": "code",
      "source": [
        "try:\n",
        "    # Try to use Kaggle secrets (per original instructions)\n",
        "    from kaggle_secrets import UserSecretsClient\n",
        "    user_secrets = UserSecretsClient()\n",
        "    spotify_client_id = user_secrets.get_secret(\"SPOTIFY_CLIENT_ID\")\n",
        "    spotify_client_secret = user_secrets.get_secret(\"SPOTIFY_CLIENT_SECRET\")\n",
        "except ModuleNotFoundError:\n",
        "    # Fallback for Colab: manually enter credentials\n",
        "    print(\"kaggle_secrets not found. Enter Spotify credentials for Colab:\")\n",
        "    spotify_client_id = input(\"Spotify Client ID: \")\n",
        "    spotify_client_secret = input(\"Spotify Client Secret: \")\n",
        "\n",
        "# Authenticate using Client Credentials Flow\n",
        "spotify = spotipy.Spotify(auth_manager=SpotifyClientCredentials(\n",
        "    client_id=spotify_client_id,\n",
        "    client_secret=spotify_client_secret\n",
        "))\n"
      ],
      "metadata": {
        "colab": {
          "base_uri": "https://localhost:8080/"
        },
        "id": "h-nDI3lv19fZ",
        "outputId": "e6139690-962f-49a4-c190-549a7027610f"
      },
      "execution_count": 6,
      "outputs": [
        {
          "name": "stdout",
          "output_type": "stream",
          "text": [
            "kaggle_secrets not found. Enter Spotify credentials for Colab:\n",
            "Spotify Client ID: de20de49f3d4484c87ca8ddc962e5609\n",
            "Spotify Client Secret: fa90aa826e2f4d788eb0ae5f62bf0431\n"
          ]
        }
      ]
    },
    {
      "cell_type": "code",
      "source": [
        "import pandas as pd\n",
        "\n",
        "# Load the dataset\n",
        "df = pd.read_csv('dataset.csv')\n",
        "\n",
        "# Keep only allowed metadata/features for compliance\n",
        "allowed_features = ['track_name', 'artists', 'danceability', 'energy', 'valence', 'tempo', 'popularity']\n",
        "df = df[allowed_features].copy()\n",
        "\n",
        "# Check the first few rows\n",
        "df.head()\n"
      ],
      "metadata": {
        "colab": {
          "base_uri": "https://localhost:8080/",
          "height": 206
        },
        "id": "WhsV1IFG2kGi",
        "outputId": "4b58e7f9-4ba6-4bd2-e2eb-2aa421b7d992"
      },
      "execution_count": 10,
      "outputs": [
        {
          "output_type": "execute_result",
          "data": {
            "text/plain": [
              "                   track_name                 artists  danceability  energy  \\\n",
              "0                      Comedy             Gen Hoshino         0.676  0.4610   \n",
              "1            Ghost - Acoustic            Ben Woodward         0.420  0.1660   \n",
              "2              To Begin Again  Ingrid Michaelson;ZAYN         0.438  0.3590   \n",
              "3  Can't Help Falling In Love            Kina Grannis         0.266  0.0596   \n",
              "4                     Hold On        Chord Overstreet         0.618  0.4430   \n",
              "\n",
              "   valence    tempo  popularity  \n",
              "0    0.715   87.917          73  \n",
              "1    0.267   77.489          55  \n",
              "2    0.120   76.332          57  \n",
              "3    0.143  181.740          71  \n",
              "4    0.167  119.949          82  "
            ],
            "text/html": [
              "\n",
              "  <div id=\"df-94d9a226-c245-404f-9cc1-3c03c1a157a8\" class=\"colab-df-container\">\n",
              "    <div>\n",
              "<style scoped>\n",
              "    .dataframe tbody tr th:only-of-type {\n",
              "        vertical-align: middle;\n",
              "    }\n",
              "\n",
              "    .dataframe tbody tr th {\n",
              "        vertical-align: top;\n",
              "    }\n",
              "\n",
              "    .dataframe thead th {\n",
              "        text-align: right;\n",
              "    }\n",
              "</style>\n",
              "<table border=\"1\" class=\"dataframe\">\n",
              "  <thead>\n",
              "    <tr style=\"text-align: right;\">\n",
              "      <th></th>\n",
              "      <th>track_name</th>\n",
              "      <th>artists</th>\n",
              "      <th>danceability</th>\n",
              "      <th>energy</th>\n",
              "      <th>valence</th>\n",
              "      <th>tempo</th>\n",
              "      <th>popularity</th>\n",
              "    </tr>\n",
              "  </thead>\n",
              "  <tbody>\n",
              "    <tr>\n",
              "      <th>0</th>\n",
              "      <td>Comedy</td>\n",
              "      <td>Gen Hoshino</td>\n",
              "      <td>0.676</td>\n",
              "      <td>0.4610</td>\n",
              "      <td>0.715</td>\n",
              "      <td>87.917</td>\n",
              "      <td>73</td>\n",
              "    </tr>\n",
              "    <tr>\n",
              "      <th>1</th>\n",
              "      <td>Ghost - Acoustic</td>\n",
              "      <td>Ben Woodward</td>\n",
              "      <td>0.420</td>\n",
              "      <td>0.1660</td>\n",
              "      <td>0.267</td>\n",
              "      <td>77.489</td>\n",
              "      <td>55</td>\n",
              "    </tr>\n",
              "    <tr>\n",
              "      <th>2</th>\n",
              "      <td>To Begin Again</td>\n",
              "      <td>Ingrid Michaelson;ZAYN</td>\n",
              "      <td>0.438</td>\n",
              "      <td>0.3590</td>\n",
              "      <td>0.120</td>\n",
              "      <td>76.332</td>\n",
              "      <td>57</td>\n",
              "    </tr>\n",
              "    <tr>\n",
              "      <th>3</th>\n",
              "      <td>Can't Help Falling In Love</td>\n",
              "      <td>Kina Grannis</td>\n",
              "      <td>0.266</td>\n",
              "      <td>0.0596</td>\n",
              "      <td>0.143</td>\n",
              "      <td>181.740</td>\n",
              "      <td>71</td>\n",
              "    </tr>\n",
              "    <tr>\n",
              "      <th>4</th>\n",
              "      <td>Hold On</td>\n",
              "      <td>Chord Overstreet</td>\n",
              "      <td>0.618</td>\n",
              "      <td>0.4430</td>\n",
              "      <td>0.167</td>\n",
              "      <td>119.949</td>\n",
              "      <td>82</td>\n",
              "    </tr>\n",
              "  </tbody>\n",
              "</table>\n",
              "</div>\n",
              "    <div class=\"colab-df-buttons\">\n",
              "\n",
              "  <div class=\"colab-df-container\">\n",
              "    <button class=\"colab-df-convert\" onclick=\"convertToInteractive('df-94d9a226-c245-404f-9cc1-3c03c1a157a8')\"\n",
              "            title=\"Convert this dataframe to an interactive table.\"\n",
              "            style=\"display:none;\">\n",
              "\n",
              "  <svg xmlns=\"http://www.w3.org/2000/svg\" height=\"24px\" viewBox=\"0 -960 960 960\">\n",
              "    <path d=\"M120-120v-720h720v720H120Zm60-500h600v-160H180v160Zm220 220h160v-160H400v160Zm0 220h160v-160H400v160ZM180-400h160v-160H180v160Zm440 0h160v-160H620v160ZM180-180h160v-160H180v160Zm440 0h160v-160H620v160Z\"/>\n",
              "  </svg>\n",
              "    </button>\n",
              "\n",
              "  <style>\n",
              "    .colab-df-container {\n",
              "      display:flex;\n",
              "      gap: 12px;\n",
              "    }\n",
              "\n",
              "    .colab-df-convert {\n",
              "      background-color: #E8F0FE;\n",
              "      border: none;\n",
              "      border-radius: 50%;\n",
              "      cursor: pointer;\n",
              "      display: none;\n",
              "      fill: #1967D2;\n",
              "      height: 32px;\n",
              "      padding: 0 0 0 0;\n",
              "      width: 32px;\n",
              "    }\n",
              "\n",
              "    .colab-df-convert:hover {\n",
              "      background-color: #E2EBFA;\n",
              "      box-shadow: 0px 1px 2px rgba(60, 64, 67, 0.3), 0px 1px 3px 1px rgba(60, 64, 67, 0.15);\n",
              "      fill: #174EA6;\n",
              "    }\n",
              "\n",
              "    .colab-df-buttons div {\n",
              "      margin-bottom: 4px;\n",
              "    }\n",
              "\n",
              "    [theme=dark] .colab-df-convert {\n",
              "      background-color: #3B4455;\n",
              "      fill: #D2E3FC;\n",
              "    }\n",
              "\n",
              "    [theme=dark] .colab-df-convert:hover {\n",
              "      background-color: #434B5C;\n",
              "      box-shadow: 0px 1px 3px 1px rgba(0, 0, 0, 0.15);\n",
              "      filter: drop-shadow(0px 1px 2px rgba(0, 0, 0, 0.3));\n",
              "      fill: #FFFFFF;\n",
              "    }\n",
              "  </style>\n",
              "\n",
              "    <script>\n",
              "      const buttonEl =\n",
              "        document.querySelector('#df-94d9a226-c245-404f-9cc1-3c03c1a157a8 button.colab-df-convert');\n",
              "      buttonEl.style.display =\n",
              "        google.colab.kernel.accessAllowed ? 'block' : 'none';\n",
              "\n",
              "      async function convertToInteractive(key) {\n",
              "        const element = document.querySelector('#df-94d9a226-c245-404f-9cc1-3c03c1a157a8');\n",
              "        const dataTable =\n",
              "          await google.colab.kernel.invokeFunction('convertToInteractive',\n",
              "                                                    [key], {});\n",
              "        if (!dataTable) return;\n",
              "\n",
              "        const docLinkHtml = 'Like what you see? Visit the ' +\n",
              "          '<a target=\"_blank\" href=https://colab.research.google.com/notebooks/data_table.ipynb>data table notebook</a>'\n",
              "          + ' to learn more about interactive tables.';\n",
              "        element.innerHTML = '';\n",
              "        dataTable['output_type'] = 'display_data';\n",
              "        await google.colab.output.renderOutput(dataTable, element);\n",
              "        const docLink = document.createElement('div');\n",
              "        docLink.innerHTML = docLinkHtml;\n",
              "        element.appendChild(docLink);\n",
              "      }\n",
              "    </script>\n",
              "  </div>\n",
              "\n",
              "\n",
              "    <div id=\"df-a1b8ac8e-88aa-44d2-9c04-41f5133019e2\">\n",
              "      <button class=\"colab-df-quickchart\" onclick=\"quickchart('df-a1b8ac8e-88aa-44d2-9c04-41f5133019e2')\"\n",
              "                title=\"Suggest charts\"\n",
              "                style=\"display:none;\">\n",
              "\n",
              "<svg xmlns=\"http://www.w3.org/2000/svg\" height=\"24px\"viewBox=\"0 0 24 24\"\n",
              "     width=\"24px\">\n",
              "    <g>\n",
              "        <path d=\"M19 3H5c-1.1 0-2 .9-2 2v14c0 1.1.9 2 2 2h14c1.1 0 2-.9 2-2V5c0-1.1-.9-2-2-2zM9 17H7v-7h2v7zm4 0h-2V7h2v10zm4 0h-2v-4h2v4z\"/>\n",
              "    </g>\n",
              "</svg>\n",
              "      </button>\n",
              "\n",
              "<style>\n",
              "  .colab-df-quickchart {\n",
              "      --bg-color: #E8F0FE;\n",
              "      --fill-color: #1967D2;\n",
              "      --hover-bg-color: #E2EBFA;\n",
              "      --hover-fill-color: #174EA6;\n",
              "      --disabled-fill-color: #AAA;\n",
              "      --disabled-bg-color: #DDD;\n",
              "  }\n",
              "\n",
              "  [theme=dark] .colab-df-quickchart {\n",
              "      --bg-color: #3B4455;\n",
              "      --fill-color: #D2E3FC;\n",
              "      --hover-bg-color: #434B5C;\n",
              "      --hover-fill-color: #FFFFFF;\n",
              "      --disabled-bg-color: #3B4455;\n",
              "      --disabled-fill-color: #666;\n",
              "  }\n",
              "\n",
              "  .colab-df-quickchart {\n",
              "    background-color: var(--bg-color);\n",
              "    border: none;\n",
              "    border-radius: 50%;\n",
              "    cursor: pointer;\n",
              "    display: none;\n",
              "    fill: var(--fill-color);\n",
              "    height: 32px;\n",
              "    padding: 0;\n",
              "    width: 32px;\n",
              "  }\n",
              "\n",
              "  .colab-df-quickchart:hover {\n",
              "    background-color: var(--hover-bg-color);\n",
              "    box-shadow: 0 1px 2px rgba(60, 64, 67, 0.3), 0 1px 3px 1px rgba(60, 64, 67, 0.15);\n",
              "    fill: var(--button-hover-fill-color);\n",
              "  }\n",
              "\n",
              "  .colab-df-quickchart-complete:disabled,\n",
              "  .colab-df-quickchart-complete:disabled:hover {\n",
              "    background-color: var(--disabled-bg-color);\n",
              "    fill: var(--disabled-fill-color);\n",
              "    box-shadow: none;\n",
              "  }\n",
              "\n",
              "  .colab-df-spinner {\n",
              "    border: 2px solid var(--fill-color);\n",
              "    border-color: transparent;\n",
              "    border-bottom-color: var(--fill-color);\n",
              "    animation:\n",
              "      spin 1s steps(1) infinite;\n",
              "  }\n",
              "\n",
              "  @keyframes spin {\n",
              "    0% {\n",
              "      border-color: transparent;\n",
              "      border-bottom-color: var(--fill-color);\n",
              "      border-left-color: var(--fill-color);\n",
              "    }\n",
              "    20% {\n",
              "      border-color: transparent;\n",
              "      border-left-color: var(--fill-color);\n",
              "      border-top-color: var(--fill-color);\n",
              "    }\n",
              "    30% {\n",
              "      border-color: transparent;\n",
              "      border-left-color: var(--fill-color);\n",
              "      border-top-color: var(--fill-color);\n",
              "      border-right-color: var(--fill-color);\n",
              "    }\n",
              "    40% {\n",
              "      border-color: transparent;\n",
              "      border-right-color: var(--fill-color);\n",
              "      border-top-color: var(--fill-color);\n",
              "    }\n",
              "    60% {\n",
              "      border-color: transparent;\n",
              "      border-right-color: var(--fill-color);\n",
              "    }\n",
              "    80% {\n",
              "      border-color: transparent;\n",
              "      border-right-color: var(--fill-color);\n",
              "      border-bottom-color: var(--fill-color);\n",
              "    }\n",
              "    90% {\n",
              "      border-color: transparent;\n",
              "      border-bottom-color: var(--fill-color);\n",
              "    }\n",
              "  }\n",
              "</style>\n",
              "\n",
              "      <script>\n",
              "        async function quickchart(key) {\n",
              "          const quickchartButtonEl =\n",
              "            document.querySelector('#' + key + ' button');\n",
              "          quickchartButtonEl.disabled = true;  // To prevent multiple clicks.\n",
              "          quickchartButtonEl.classList.add('colab-df-spinner');\n",
              "          try {\n",
              "            const charts = await google.colab.kernel.invokeFunction(\n",
              "                'suggestCharts', [key], {});\n",
              "          } catch (error) {\n",
              "            console.error('Error during call to suggestCharts:', error);\n",
              "          }\n",
              "          quickchartButtonEl.classList.remove('colab-df-spinner');\n",
              "          quickchartButtonEl.classList.add('colab-df-quickchart-complete');\n",
              "        }\n",
              "        (() => {\n",
              "          let quickchartButtonEl =\n",
              "            document.querySelector('#df-a1b8ac8e-88aa-44d2-9c04-41f5133019e2 button');\n",
              "          quickchartButtonEl.style.display =\n",
              "            google.colab.kernel.accessAllowed ? 'block' : 'none';\n",
              "        })();\n",
              "      </script>\n",
              "    </div>\n",
              "\n",
              "    </div>\n",
              "  </div>\n"
            ],
            "application/vnd.google.colaboratory.intrinsic+json": {
              "type": "dataframe",
              "variable_name": "df"
            }
          },
          "metadata": {},
          "execution_count": 10
        }
      ]
    },
    {
      "cell_type": "code",
      "source": [
        "def find_song(song_name, artist_name=None):\n",
        "    \"\"\"\n",
        "    Search for a song in the dataset using partial/fuzzy match.\n",
        "    Handles NaN values in track_name and artists columns.\n",
        "    Returns the first matching row as a dictionary, else None.\n",
        "    \"\"\"\n",
        "    song_name = song_name.strip().lower()\n",
        "\n",
        "    # Filter songs containing the input song name, ignore NaN\n",
        "    matches = df[df['track_name'].notna() & df['track_name'].str.lower().str.contains(song_name, regex=False)]\n",
        "\n",
        "    if artist_name:\n",
        "        artist_name = artist_name.strip().lower()\n",
        "        def artist_match(row):\n",
        "            if pd.isna(row):\n",
        "                return False\n",
        "            artists_list = [a.strip().lower() for a in row.split(',')]\n",
        "            return artist_name in artists_list\n",
        "        matches = matches[matches['artists'].apply(artist_match)]\n",
        "\n",
        "    return matches.iloc[0].to_dict() if not matches.empty else None\n"
      ],
      "metadata": {
        "id": "hB4IZAfW3f8u"
      },
      "execution_count": 17,
      "outputs": []
    },
    {
      "cell_type": "code",
      "source": [
        "result = find_song(\"Blinding Lights\")\n",
        "print(result)\n"
      ],
      "metadata": {
        "colab": {
          "base_uri": "https://localhost:8080/"
        },
        "id": "ekV5gJXc3iKI",
        "outputId": "75bf62e2-10cc-4fed-e609-6de905651e11"
      },
      "execution_count": 18,
      "outputs": [
        {
          "output_type": "stream",
          "name": "stdout",
          "text": [
            "{'track_name': 'Blinding Lights', 'artists': 'Kidz Bop Kids', 'danceability': 0.606, 'energy': 0.775, 'valence': 0.867, 'tempo': 171.011, 'popularity': 0}\n"
          ]
        }
      ]
    },
    {
      "cell_type": "code",
      "source": [
        "def find_song(song_name, artist_name=None):\n",
        "    \"\"\"\n",
        "    Search for a song in the dataset using the track_name only.\n",
        "    Returns the first matching row as a dictionary, else None.\n",
        "    \"\"\"\n",
        "    song_name = song_name.strip().lower()\n",
        "\n",
        "    # Filter songs by title only, ignore NaN\n",
        "    matches = df[df['track_name'].notna() & df['track_name'].str.lower().str.contains(song_name, regex=False)]\n",
        "\n",
        "    return matches.iloc[0].to_dict() if not matches.empty else None\n"
      ],
      "metadata": {
        "id": "DgNiZvh3GsNE"
      },
      "execution_count": 21,
      "outputs": []
    },
    {
      "cell_type": "code",
      "source": [
        "song_info = find_song(\"Blinding Lights\")\n",
        "print(song_info)\n"
      ],
      "metadata": {
        "colab": {
          "base_uri": "https://localhost:8080/"
        },
        "id": "ReXns5kVGtwV",
        "outputId": "e826b6ff-2fee-44d4-d98c-91d6bb439018"
      },
      "execution_count": 22,
      "outputs": [
        {
          "output_type": "stream",
          "name": "stdout",
          "text": [
            "{'track_name': 'Blinding Lights', 'artists': 'Kidz Bop Kids', 'danceability': 0.606, 'energy': 0.775, 'valence': 0.867, 'tempo': 171.011, 'popularity': 0}\n"
          ]
        }
      ]
    },
    {
      "cell_type": "code",
      "source": [
        "def get_song_data(song_name, artist_name=None):\n",
        "    \"\"\"\n",
        "    Get song data from dataset or Spotify API if not in dataset.\n",
        "    Returns a dictionary with track_name, artists, danceability, energy, valence, tempo, popularity.\n",
        "    \"\"\"\n",
        "    # Try the dataset first\n",
        "    song = find_song(song_name, artist_name)\n",
        "    if song is not None:\n",
        "        return song\n",
        "\n",
        "    # If not in dataset, fetch from Spotify API\n",
        "    results = spotify.search(q=song_name, type='track', limit=1)\n",
        "    items = results['tracks']['items']\n",
        "    if items:\n",
        "        track = items[0]\n",
        "        features = spotify.audio_features(track['id'])[0]\n",
        "        return {\n",
        "            'track_name': track['name'],\n",
        "            'artists': ', '.join([a['name'] for a in track['artists']]),\n",
        "            'danceability': features['danceability'],\n",
        "            'energy': features['energy'],\n",
        "            'valence': features['valence'],\n",
        "            'tempo': features['tempo'],\n",
        "            'popularity': track['popularity']\n",
        "        }\n",
        "\n",
        "    # If not found at all\n",
        "    return None\n"
      ],
      "metadata": {
        "id": "UEQadbk7G3Ye"
      },
      "execution_count": 23,
      "outputs": []
    },
    {
      "cell_type": "code",
      "source": [
        "song_info = get_song_data(\"Blinding Lights\")\n",
        "print(song_info)\n"
      ],
      "metadata": {
        "colab": {
          "base_uri": "https://localhost:8080/"
        },
        "id": "LC9doQ4JG5RV",
        "outputId": "8b8e59a1-df7d-41f9-a53a-de33f3ca23f5"
      },
      "execution_count": 24,
      "outputs": [
        {
          "output_type": "stream",
          "name": "stdout",
          "text": [
            "{'track_name': 'Blinding Lights', 'artists': 'Kidz Bop Kids', 'danceability': 0.606, 'energy': 0.775, 'valence': 0.867, 'tempo': 171.011, 'popularity': 0}\n"
          ]
        }
      ]
    },
    {
      "cell_type": "code",
      "source": [
        "import numpy as np\n",
        "\n",
        "def get_mean_vector(songs, features=['danceability', 'energy', 'valence', 'tempo']):\n",
        "    \"\"\"\n",
        "    Calculate the mean vector of numerical features for a list of songs.\n",
        "\n",
        "    Parameters:\n",
        "    - songs: list of song titles (strings)\n",
        "    - features: list of numerical feature names to include\n",
        "\n",
        "    Returns:\n",
        "    - numpy array of mean feature values\n",
        "    \"\"\"\n",
        "    vectors = []\n",
        "\n",
        "    for song in songs:\n",
        "        data = get_song_data(song)\n",
        "        if data:\n",
        "            vectors.append([data.get(f, 0) for f in features])\n",
        "\n",
        "    if vectors:\n",
        "        return np.mean(vectors, axis=0)\n",
        "    else:\n",
        "        return np.zeros(len(features))\n"
      ],
      "metadata": {
        "id": "8aqGZcp2G8O8"
      },
      "execution_count": 25,
      "outputs": []
    },
    {
      "cell_type": "code",
      "source": [
        "mean_vector = get_mean_vector([\"Blinding Lights\", \"Levitating\"])\n",
        "print(mean_vector)\n"
      ],
      "metadata": {
        "colab": {
          "base_uri": "https://localhost:8080/"
        },
        "id": "rvWJFMBsHCc2",
        "outputId": "68f3ddb6-e9ac-4a43-a01c-cf8482e825b5"
      },
      "execution_count": 26,
      "outputs": [
        {
          "output_type": "stream",
          "name": "stdout",
          "text": [
            "[  0.656    0.7865   0.8395 137.014 ]\n"
          ]
        }
      ]
    },
    {
      "cell_type": "code",
      "source": [
        "from collections import defaultdict\n",
        "\n",
        "def flatten_dict_list(dict_list):\n",
        "    \"\"\"\n",
        "    Flatten a list of dictionaries into a dictionary of lists.\n",
        "\n",
        "    Parameters:\n",
        "    - dict_list: list of dictionaries\n",
        "\n",
        "    Returns:\n",
        "    - dict where each key maps to a list of values from all dictionaries\n",
        "    \"\"\"\n",
        "    flat_dict = defaultdict(list)\n",
        "    for d in dict_list:\n",
        "        for key, value in d.items():\n",
        "            flat_dict[key].append(value)\n",
        "    return dict(flat_dict)\n"
      ],
      "metadata": {
        "id": "rsygikR2HFLk"
      },
      "execution_count": 27,
      "outputs": []
    },
    {
      "cell_type": "code",
      "source": [
        "sample = [\n",
        "    {'track_name': 'Blinding Lights', 'danceability': 0.51, 'energy': 0.73},\n",
        "    {'track_name': 'Levitating', 'danceability': 0.7, 'energy': 0.8}\n",
        "]\n",
        "\n",
        "flat = flatten_dict_list(sample)\n",
        "print(flat)\n"
      ],
      "metadata": {
        "colab": {
          "base_uri": "https://localhost:8080/"
        },
        "id": "Qtp5TmUPHUA6",
        "outputId": "715f0825-3de7-48ac-f69b-a7c7b011f3b5"
      },
      "execution_count": 28,
      "outputs": [
        {
          "output_type": "stream",
          "name": "stdout",
          "text": [
            "{'track_name': ['Blinding Lights', 'Levitating'], 'danceability': [0.51, 0.7], 'energy': [0.73, 0.8]}\n"
          ]
        }
      ]
    },
    {
      "cell_type": "code",
      "source": [
        "from sklearn.metrics.pairwise import cosine_similarity\n",
        "import numpy as np\n",
        "\n",
        "def recommend_songs(input_songs, top_n=5, features=['danceability', 'energy', 'valence', 'tempo']):\n",
        "    \"\"\"\n",
        "    Recommend songs similar to the input list.\n",
        "\n",
        "    Parameters:\n",
        "    - input_songs: list of song names\n",
        "    - top_n: number of recommendations\n",
        "    - features: numerical features to compare\n",
        "\n",
        "    Returns:\n",
        "    - list of recommended song dictionaries\n",
        "    \"\"\"\n",
        "    # Compute mean vector for input songs\n",
        "    mean_vec = get_mean_vector(input_songs, features)\n",
        "\n",
        "    # Prepare dataset feature matrix\n",
        "    df_features = df[features].fillna(0).to_numpy()\n",
        "\n",
        "    # Compute cosine similarity\n",
        "    similarities = cosine_similarity([mean_vec], df_features)[0]\n",
        "\n",
        "    # Get top N similar indices (exclude input songs themselves)\n",
        "    input_set = set([s.lower() for s in input_songs])\n",
        "    recommended = []\n",
        "\n",
        "    for idx in np.argsort(similarities)[::-1]:\n",
        "        song_row = df.iloc[idx]\n",
        "        if song_row['track_name'].lower() not in input_set:\n",
        "            recommended.append(song_row.to_dict())\n",
        "        if len(recommended) >= top_n:\n",
        "            break\n",
        "\n",
        "    return recommended\n"
      ],
      "metadata": {
        "id": "CUYDsJJNHVqy"
      },
      "execution_count": 29,
      "outputs": []
    },
    {
      "cell_type": "code",
      "source": [
        "# Input multiple songs\n",
        "input_songs = [\"Blinding Lights\", \"Levitating\", \"Save Your Tears\"]\n",
        "\n",
        "# Get top 5 recommendations\n",
        "recommendations = recommend_songs(input_songs, top_n=5)\n",
        "\n",
        "# Display results\n",
        "for i, song in enumerate(recommendations, 1):\n",
        "    print(f\"{i}. {song['track_name']} by {song['artists']}\")\n"
      ],
      "metadata": {
        "colab": {
          "base_uri": "https://localhost:8080/"
        },
        "id": "AmwZy7_GILl1",
        "outputId": "d7f2cc56-6fef-4944-e3db-2fa000c3f48e"
      },
      "execution_count": 32,
      "outputs": [
        {
          "output_type": "stream",
          "name": "stdout",
          "text": [
            "1. The Hops of Guldenberg by Punch Brothers\n",
            "2. Desculpe Amor by Unha Pintada\n",
            "3. Tus Ojos by Manolo Muñoz\n",
            "4. Proteção de Tela by Rafinha o Big Love\n",
            "5. The Final Countdown by Pickin' On Series\n"
          ]
        }
      ]
    }
  ]
}